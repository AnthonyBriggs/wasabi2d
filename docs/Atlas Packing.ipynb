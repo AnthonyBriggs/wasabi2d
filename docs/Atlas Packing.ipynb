{
 "cells": [
  {
   "cell_type": "code",
   "execution_count": 1,
   "metadata": {},
   "outputs": [
    {
     "name": "stdout",
     "output_type": "stream",
     "text": [
      "pygame 2.0.0.dev3 (SDL 2.0.9, python 3.7.2)\n",
      "Hello from the pygame community. https://www.pygame.org/contribute.html\n"
     ]
    }
   ],
   "source": [
    "from pygame import Rect"
   ]
  },
  {
   "cell_type": "code",
   "execution_count": 502,
   "metadata": {},
   "outputs": [],
   "source": [
    "import numpy as np\n",
    "\n",
    "\n",
    "class NoFit(Exception):\n",
    "    \"\"\"The block does not fit inside a texture.\"\"\"\n",
    "\n",
    "    \n",
    "class MaxRectsTex:\n",
    "    def __init__(self, size=512, threshold=0):\n",
    "        self.bounds = Rect(0, 0, size, size)\n",
    "        self.largest_dim = size\n",
    "        self.contents = []\n",
    "        self.threshold = threshold\n",
    "        self.free = [self.bounds]\n",
    "\n",
    "    def _solutions(self, r):\n",
    "        \"\"\"Iterate over possible locations for r in this texture.\"\"\"\n",
    "        if r.w > self.bounds.w and block.h > self.bounds.h:\n",
    "            raise NoFit()\n",
    "        rotations = [r]\n",
    "        if r.h != r.w:\n",
    "            rotations.append(Rect(0, 0, r.h, r.w))\n",
    "            \n",
    "        for r in rotations:\n",
    "            for block in self.free:\n",
    "                if block.w < r.w:\n",
    "                    # We keep list sorted so we can break here\n",
    "                    break\n",
    "                elif block.h < r.h:\n",
    "                    continue\n",
    "                    \n",
    "                yield r, block\n",
    "        \n",
    "    def _fitness(self, sol):\n",
    "        \"\"\"Return a value indicating the fitness of this localstion.\n",
    "        \n",
    "        Lower is better; the minimal value will be picked.\n",
    "        \"\"\"\n",
    "        r, block = sol\n",
    "        #rect = Rect(block.topleft, r.size)\n",
    "        \n",
    "        # Best area fit\n",
    "        #return -(r.w * r.h) / (block.w * block.h)\n",
    "        \n",
    "        # Best short side fit\n",
    "        if r.w < r.h:\n",
    "            return block.w - r.w\n",
    "        else:\n",
    "            return block.h - r.h\n",
    "        \n",
    "        # Best any side fit\n",
    "        # return min(block.w - r.w, block.h - r.h)\n",
    "        \n",
    "    def place(self, r):\n",
    "        if not self.free:\n",
    "            raise NoFit()\n",
    "            \n",
    "        try:\n",
    "            r, block = min(\n",
    "                self._solutions(r),\n",
    "                key=self._fitness\n",
    "            )\n",
    "        except ValueError as e:\n",
    "            if e.args[0] != 'min() arg is an empty sequence':\n",
    "                raise\n",
    "            raise NoFit() from None\n",
    "            \n",
    "        r.topleft = block.topleft    \n",
    "        self.contents.append(r)\n",
    "        \n",
    "        new_free = [] # new rects already checked against threshold\n",
    "        new_rects = []  # new rects to be checked\n",
    "        for block in self.free:\n",
    "            if not block.colliderect(r):\n",
    "                new_free.append(block)\n",
    "                continue\n",
    "                \n",
    "            new_rects.extend([\n",
    "                Rect(block.left, block.top, block.w, r.top - block.top),  # Above r\n",
    "                Rect(block.left, r.bottom, block.w, block.bottom - r.bottom),  # Below r\n",
    "                Rect(block.left, block.top, r.left - block.left, block.h), # Left of r\n",
    "                Rect(r.right, block.top, block.right - r.right, block.h),  # Right of r \n",
    "            ])\n",
    "        \n",
    "        new_free += [\n",
    "            r for r in new_rects\n",
    "            if min(r.size) > self.threshold\n",
    "        ]\n",
    "        \n",
    "        # This is O(n²) but I couldn't improve it by a sort-and sweep approach due to high\n",
    "        # constant factors\n",
    "        self.free = [\n",
    "            r for r in new_free\n",
    "            if not any(b.contains(r) for b in new_free if b is not r)\n",
    "        ]\n",
    "        self.free.sort(key=lambda block: block.w, reverse=True)\n",
    "\n",
    "        return r\n",
    "    \n",
    "    def _combine_free(self, new_free):\n",
    "        \"\"\"Set self.free to new_free.\n",
    "        \n",
    "        To minimise the length of the list, eliminate any rectangle wholly\n",
    "        contained within another.\n",
    "        \n",
    "        This use a sort-and-sweep approach, which should be O(N * M) where M ~ sqrt(N),\n",
    "        so O(N ^ (3 / 2)). Unfortunately the constant factors are much too high.\n",
    "        \n",
    "        \"\"\"\n",
    "        self.free = []\n",
    "\n",
    "        open = []\n",
    "        edges = (\n",
    "            [(r.left, True, r) for r in new_free] +\n",
    "            [(r.right, False, r) for r in new_free]\n",
    "        )\n",
    "        edges.sort()\n",
    "        for _, opening, r in edges:\n",
    "            if opening:\n",
    "                if not any(b.contains(r) for b in open):\n",
    "                    open.append(r)\n",
    "            else:\n",
    "                # rects contain themselves so this discards r\n",
    "                open = [b for b in open if not r.contains(b)]\n",
    "                self.free.append(r)\n",
    "        \n",
    "    \n",
    "class Packer:\n",
    "    @classmethod\n",
    "    def new_maxrects(cls, threshold=0):\n",
    "        return cls(\n",
    "            tex_factory=lambda: MaxRectsTex(threshold=threshold)\n",
    "        )\n",
    "        \n",
    "        \n",
    "    def __init__(self, tex_factory):\n",
    "        self.texs = []\n",
    "        self.new_tex = tex_factory\n",
    "        \n",
    "    def add(self, r):\n",
    "        i = -1\n",
    "        for i, t in enumerate(self.texs):\n",
    "            try:\n",
    "                result = t.place(r)\n",
    "            except NoFit:\n",
    "                continue\n",
    "            else:\n",
    "                return i, result\n",
    "        new = self.new_tex()\n",
    "        result = new.place(r)  \n",
    "        self.texs.append(new)\n",
    "        return i + 1, result\n",
    "            "
   ]
  },
  {
   "cell_type": "code",
   "execution_count": 465,
   "metadata": {},
   "outputs": [],
   "source": [
    "from matplotlib import pyplot as plt"
   ]
  },
  {
   "cell_type": "code",
   "execution_count": 543,
   "metadata": {},
   "outputs": [
    {
     "data": {
      "image/png": "[encoded data removed]",
      "text/plain": [
       "<Figure size 1440x576 with 2 Axes>"
      ]
     },
     "metadata": {
      "needs_background": "light"
     },
     "output_type": "display_data"
    }
   ],
   "source": [
    "import random\n",
    "from itertools import combinations\n",
    "\n",
    "packer = Packer.new_maxrects(threshold=32)\n",
    "\n",
    "\n",
    "def plot_solutions(packer):\n",
    "    by_bin = {}\n",
    "\n",
    "    for i in range(100):\n",
    "        w = abs(random.normalvariate(50, 50)) + 1\n",
    "        h = abs(random.normalvariate(50, 50)) + 1\n",
    "        bin, loc = packer.add(Rect(0, 0, w, h))\n",
    "        by_bin.setdefault(bin, []).append(loc)\n",
    "\n",
    "    for rects in by_bin.values():\n",
    "        for ra, rb in combinations(rects, 2):\n",
    "            if ra.colliderect(rb):\n",
    "                raise AssertionError(f\"{ra} collides with {rb}\")\n",
    "\n",
    "    for bin_id, rects in by_bin.items():\n",
    "        bounds = packer.texs[bin_id].bounds\n",
    "        for r in rects:\n",
    "            if not bounds.contains(r):\n",
    "                raise AssertionError(f\"{r} is not within bounds {bounds}\")\n",
    "\n",
    "    count = max(by_bin) + 1\n",
    "    fig, axes = plt.subplots(1, count, figsize=(20, 8))\n",
    "    if count < 2:\n",
    "        axes = [axes]\n",
    "\n",
    "    for i, ax in enumerate(axes):\n",
    "        bin = by_bin.get(i, ())\n",
    "        ax.set_aspect(1)\n",
    "        ax.set_xlim(0, 512)\n",
    "        ax.set_ylim(0, 512)\n",
    "        for r in bin:\n",
    "            points = [r.topleft, r.topright, r.bottomright, r.bottomleft, r.topleft]\n",
    "            xs, ys = zip(*points)\n",
    "            ax.plot(xs, ys)\n",
    "\n",
    "        \n",
    "plot_solutions(packer)"
   ]
  },
  {
   "cell_type": "code",
   "execution_count": 489,
   "metadata": {},
   "outputs": [
    {
     "data": {
      "text/plain": [
       "32"
      ]
     },
     "execution_count": 489,
     "metadata": {},
     "output_type": "execute_result"
    }
   ],
   "source": [
    "len(packer.texs[0].free)"
   ]
  },
  {
   "cell_type": "code",
   "execution_count": 550,
   "metadata": {},
   "outputs": [],
   "source": [
    "import random\n",
    "import timeit\n",
    "import numpy as np\n",
    "\n",
    "# Create the rects first\n",
    "rects = []\n",
    "for i in range(10000):\n",
    "    w = max(random.normalvariate(18, 4), 1)\n",
    "    h = max(random.normalvariate(13, 4), 1)\n",
    "    rects.append(Rect(0, 0, w, h))\n",
    "\n",
    "\n",
    "def plot_perf(packer):\n",
    "    n = 0\n",
    "    cumtime = 0 \n",
    "\n",
    "    results = []\n",
    "    for _ in range(50):\n",
    "        n += 10\n",
    "        start = timeit.default_timer()\n",
    "        for r in rects[n - 10:n]:\n",
    "            packer.add(r)\n",
    "        end = timeit.default_timer()\n",
    "        cumtime += (end - start) * 1000\n",
    "        results.append((n, len(packer.texs), cumtime))\n",
    "\n",
    "    amounts, bins, times = zip(*results)\n",
    "    fig, (ts, bs) = plt.subplots(2, 1, figsize=(20, 8))\n",
    "    ts.plot(amounts, times)\n",
    "    bs.bar(amounts, bins)"
   ]
  },
  {
   "cell_type": "code",
   "execution_count": 551,
   "metadata": {},
   "outputs": [
    {
     "data": {
      "image/png": "[encoded data removed]",
      "text/plain": [
       "<Figure size 1440x576 with 2 Axes>"
      ]
     },
     "metadata": {
      "needs_background": "light"
     },
     "output_type": "display_data"
    }
   ],
   "source": [
    "plot_perf(Packer.new_maxrects(threshold=16))"
   ]
  },
  {
   "cell_type": "code",
   "execution_count": 548,
   "metadata": {},
   "outputs": [],
   "source": [
    "class ShelvesTex:\n",
    "    def __init__(self, size=512):\n",
    "        self.bounds = Rect(0, 0, size, size)\n",
    "        self.contents = []\n",
    "        self.free = [Rect(self.bounds)]\n",
    "\n",
    "    def _solutions(self, r):\n",
    "        \"\"\"Iterate over possible locations for r in this texture.\"\"\"\n",
    "        if r.w > self.bounds.w and block.h > self.bounds.h:\n",
    "            raise NoFit()\n",
    "  \n",
    "#      Coerce to book-orientation\n",
    "#         if r.w > r.h:\n",
    "#             r = Rect(0, 0, r.h, r.w)\n",
    "        \n",
    "        rotations = [r]\n",
    "        if r.h != r.w:\n",
    "            rotations.append(Rect(0, 0, r.h, r.w))\n",
    "            \n",
    "        for r in rotations:\n",
    "            for block in self.free:\n",
    "                if block.h < r.h:\n",
    "                    # We keep list sorted so we can break here\n",
    "                    break\n",
    "                elif block.w < r.w:\n",
    "                    continue\n",
    "\n",
    "                yield r, block\n",
    "        \n",
    "    def _fitness(self, sol):\n",
    "        \"\"\"Return a value indicating the fitness of this localstion.\n",
    "        \n",
    "        Lower is better; the minimal value will be picked.\n",
    "        \"\"\"\n",
    "        r, block = sol\n",
    "        if block.left == 0:\n",
    "            # Weight creating a new shelf\n",
    "            return r.h * 0.2\n",
    "        return block.h - r.h\n",
    "        \n",
    "    def place(self, r):\n",
    "        if not self.free:\n",
    "            raise NoFit()\n",
    "            \n",
    "        try:\n",
    "            r, block = min(\n",
    "                self._solutions(r),\n",
    "                key=self._fitness\n",
    "            )\n",
    "        except ValueError as e:\n",
    "            if e.args[0] != 'min() arg is an empty sequence':\n",
    "                raise\n",
    "            raise NoFit() from None\n",
    "            \n",
    "        r.topleft = block.topleft    \n",
    "        self.contents.append(r)\n",
    "        if block.left == 0:\n",
    "            # Allocating a new shelf\n",
    "            top = block.top\n",
    "            block.height -= r.height\n",
    "            block.top = r.bottom\n",
    "            if block.w > r.w:\n",
    "                self.free.append(Rect(r.right, top, block.w - r.w, r.h))\n",
    "            if block.height <= 0:\n",
    "                self.free.remove(block)\n",
    "        else:\n",
    "            block.width -= r.width\n",
    "            block.left = r.right\n",
    "            if block.width <= 0:\n",
    "                self.free.remove(block)\n",
    "            \n",
    "        self.free.sort(key=lambda block: block.h, reverse=True)\n",
    "        return r"
   ]
  },
  {
   "cell_type": "code",
   "execution_count": 549,
   "metadata": {},
   "outputs": [
    {
     "data": {
      "image/png": "[encoded data removed]",
      "text/plain": [
       "<Figure size 1440x576 with 2 Axes>"
      ]
     },
     "metadata": {
      "needs_background": "light"
     },
     "output_type": "display_data"
    }
   ],
   "source": [
    "shelf_packer = Packer(tex_factory=ShelvesTex)\n",
    "\n",
    "plot_solutions(shelf_packer)"
   ]
  },
  {
   "cell_type": "code",
   "execution_count": null,
   "metadata": {},
   "outputs": [],
   "source": [
    "plot_perf(Packer.new_maxrects(threshold=16))"
   ]
  },
  {
   "cell_type": "code",
   "execution_count": null,
   "metadata": {},
   "outputs": [],
   "source": []
  }
 ],
 "metadata": {
  "kernelspec": {
   "display_name": "",
   "name": ""
  },
  "language_info": {
   "codemirror_mode": {
    "name": "ipython",
    "version": 3
   },
   "file_extension": ".py",
   "mimetype": "text/x-python",
   "name": "python",
   "nbconvert_exporter": "python",
   "pygments_lexer": "ipython3",
   "version": "3.7.2"
  }
 },
 "nbformat": 4,
 "nbformat_minor": 4
}
