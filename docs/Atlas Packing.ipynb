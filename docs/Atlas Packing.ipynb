{
 "cells": [
  {
   "cell_type": "code",
   "execution_count": 1,
   "metadata": {},
   "outputs": [
    {
     "name": "stdout",
     "output_type": "stream",
     "text": [
      "pygame 2.0.0.dev3 (SDL 2.0.9, python 3.7.2)\n",
      "Hello from the pygame community. https://www.pygame.org/contribute.html\n"
     ]
    }
   ],
   "source": [
    "from pygame import Rect"
   ]
  },
  {
   "cell_type": "code",
   "execution_count": 177,
   "metadata": {},
   "outputs": [],
   "source": [
    "import numpy as np\n",
    "\n",
    "\n",
    "class NoFit(Exception):\n",
    "    \"\"\"The block does not fit inside a texture.\"\"\"\n",
    "\n",
    "    \n",
    "class Tex:\n",
    "    def __init__(self, size=512):\n",
    "        self.bounds = Rect(0, 0, size, size)\n",
    "        self.largest_dim = size\n",
    "        self.contents = []\n",
    "        self.free = [self.bounds]\n",
    "\n",
    "    def _solutions(self, r):\n",
    "        \"\"\"Iterate over possible locations for r in this texture.\"\"\"\n",
    "        if r.w > self.bounds.w and block.h > self.bounds.h:\n",
    "            raise NoFit()\n",
    "        rotations = [r]\n",
    "        if r.h != r.w:\n",
    "            rotations.append(Rect(0, 0, r.h, r.w))\n",
    "            \n",
    "        # TODO: if we keep self.free sorted we could bisect to find regions that fit?\n",
    "        for r in rotations:\n",
    "            for block in self.free:\n",
    "                if block.w < r.w or block.h < r.h:\n",
    "                    continue\n",
    "                    \n",
    "                yield r, block\n",
    "        \n",
    "    def _fitness(self, sol):\n",
    "        r, block = sol\n",
    "        \n",
    "        rect = Rect(block.topleft, r.size)\n",
    "        return (r.w * r.h) / (block.w * block.h)\n",
    "        \n",
    "    def place(self, r):\n",
    "        if r.w > self.largest_dim or r.h > self.largest_dim:\n",
    "            raise NoFit()\n",
    "        try:\n",
    "            r, block = min(\n",
    "                self._solutions(r),\n",
    "                key=self._fitness\n",
    "            )\n",
    "        except ValueError as e:\n",
    "            if e.args[0] != 'min() arg is an empty sequence':\n",
    "                raise\n",
    "            raise NoFit() from None\n",
    "            \n",
    "        r.topleft = block.topleft    \n",
    "        self.contents.append(r)\n",
    "        \n",
    "        new_free = []\n",
    "            \n",
    "        for block in self.free:\n",
    "            if not block.colliderect(r):\n",
    "                new_free.append(block)\n",
    "                continue\n",
    "                \n",
    "            new_free.extend([\n",
    "                Rect(block.left, block.top, block.w, r.top - block.top),  # Above r\n",
    "                Rect(block.left, r.bottom, block.w, block.bottom - r.bottom),  # Below r\n",
    "                Rect(block.left, block.top, r.left - block.left, block.h), # Left of r\n",
    "                Rect(r.right, block.top, block.right - r.right, block.h),  # Right of r \n",
    "            ])\n",
    "            \n",
    "        self.free = []\n",
    "        for f in new_free:\n",
    "            if f.width <= 0 or f.height <= 0:\n",
    "                continue\n",
    "                \n",
    "            if not any(block.contains(f) for block in self.free):\n",
    "                self.free.append(f)\n",
    "                \n",
    "        self.largest_dim = max(min(block.size) for block in self.free)\n",
    "        return r\n",
    "        \n",
    "    \n",
    "class Packer:\n",
    "    def __init__(self):\n",
    "        self.texs = []\n",
    "        \n",
    "    def new_tex(self):\n",
    "        return Tex()\n",
    "        \n",
    "    def add(self, r):\n",
    "        i = -1\n",
    "        for i, t in enumerate(self.texs):\n",
    "            try:\n",
    "                result = t.place(r)\n",
    "            except NoFit:\n",
    "                continue\n",
    "            else:\n",
    "                return i, result\n",
    "        new = self.new_tex()\n",
    "        result = new.place(r)  \n",
    "        self.texs.append(new)\n",
    "        return i + 1, result\n",
    "            "
   ]
  },
  {
   "cell_type": "code",
   "execution_count": 178,
   "metadata": {},
   "outputs": [],
   "source": [
    "from matplotlib import pyplot as plt"
   ]
  },
  {
   "cell_type": "code",
   "execution_count": 181,
   "metadata": {},
   "outputs": [],
   "source": [
    "import random\n",
    "from itertools import combinations\n",
    "\n",
    "packer = Packer()\n",
    "\n",
    "by_bin = {}\n",
    "\n",
    "for i in range(200):\n",
    "    w = abs(random.normalvariate(50, 10))\n",
    "    h = abs(random.normalvariate(50, 10))\n",
    "    bin, loc = packer.add(Rect(0, 0, w, h))\n",
    "    by_bin.setdefault(bin, []).append(loc)\n",
    "    \n",
    "for rects in by_bin.values():\n",
    "    for ra, rb in combinations(rects, 2):\n",
    "        if ra.colliderect(rb):\n",
    "            raise AssertionError(f\"{ra} collides with {rb}\")\n",
    "            \n",
    "for bin_id, rects in by_bin.items():\n",
    "    bounds = packer.texs[bin_id].bounds\n",
    "    for r in rects:\n",
    "        if not bounds.contains(r):\n",
    "            raise AssertionError(f\"{r} is not within bounds {bounds}\")"
   ]
  },
  {
   "cell_type": "code",
   "execution_count": 182,
   "metadata": {},
   "outputs": [
    {
     "data": {
      "image/png": "[encoded data removed]",
      "text/plain": [
       "<Figure size 1440x576 with 3 Axes>"
      ]
     },
     "metadata": {
      "needs_background": "light"
     },
     "output_type": "display_data"
    }
   ],
   "source": [
    "count = max(by_bin) + 1\n",
    "fig, axes = plt.subplots(1, count, figsize=(20, 8))\n",
    "if count < 2:\n",
    "    axes = [axes]\n",
    "\n",
    "for i, ax in enumerate(axes):\n",
    "    bin = by_bin.get(i, ())\n",
    "    ax.set_aspect(1)\n",
    "    ax.set_xlim(0, 512)\n",
    "    ax.set_ylim(0, 512)\n",
    "    for r in bin:\n",
    "        points = [r.topleft, r.topright, r.bottomright, r.bottomleft, r.topleft]\n",
    "        xs, ys = zip(*points)\n",
    "        ax.plot(xs, ys)\n",
    "        "
   ]
  },
  {
   "cell_type": "code",
   "execution_count": 174,
   "metadata": {},
   "outputs": [
    {
     "data": {
      "text/plain": [
       "<__main__.Tex at 0x7f0e99407080>"
      ]
     },
     "execution_count": 174,
     "metadata": {},
     "output_type": "execute_result"
    }
   ],
   "source": [
    "packer.texs[0]"
   ]
  },
  {
   "cell_type": "code",
   "execution_count": null,
   "metadata": {},
   "outputs": [],
   "source": []
  }
 ],
 "metadata": {
  "kernelspec": {
   "display_name": "",
   "name": ""
  },
  "language_info": {
   "codemirror_mode": {
    "name": "ipython",
    "version": 3
   },
   "file_extension": ".py",
   "mimetype": "text/x-python",
   "name": "python",
   "nbconvert_exporter": "python",
   "pygments_lexer": "ipython3",
   "version": "3.7.2"
  }
 },
 "nbformat": 4,
 "nbformat_minor": 4
}
